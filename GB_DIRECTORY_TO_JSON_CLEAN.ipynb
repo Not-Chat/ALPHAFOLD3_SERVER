{
 "cells": [
  {
   "cell_type": "code",
   "execution_count": 2,
   "id": "615a5bdf",
   "metadata": {},
   "outputs": [],
   "source": [
    "#Objective:\n",
    "\n",
    "##This will create *separate* folders/directories for each input .gb file in your specified input directory and *separate* .json files for each input .gb file formatted for use with AF3 server\n",
    "\n",
    "#Checklist before running:\n",
    "\n",
    "##Change the .gb input directory as needed\n",
    "##Change the output directory as needed\n",
    "\n",
    "#Note:\n",
    "##May need to comment out code section that creates new folders for each file if you want all the files in one folder\n",
    "##This only works for protein sequences *without* post-translational modifications (PTMs) such as glycosylation, citrullination, phosphorylation, SUMOlation, etc."
   ]
  },
  {
   "cell_type": "code",
   "execution_count": 3,
   "id": "b8604281",
   "metadata": {},
   "outputs": [],
   "source": [
    "#Importing modules:\n",
    "import os\n",
    "import json\n",
    "import re\n",
    "from Bio import SeqIO"
   ]
  },
  {
   "cell_type": "code",
   "execution_count": 4,
   "id": "82f5f7d6",
   "metadata": {},
   "outputs": [
    {
     "name": "stdout",
     "output_type": "stream",
     "text": [
     ]
    },
    {
     "name": "stdout",
     "output_type": "stream",
     "text": [
     ]
    }
   ],
   "source": [
    "#Defining our first function \"create_json_structure\" to create a json file structure based off of the AF3 server requirements\n",
    "def create_json_structure(proteins):\n",
    "    jobs = []\n",
    "    for protein in proteins:\n",
    "        job = {\n",
    "            \"name\": protein['name'],\n",
    "            \"modelSeeds\": [],\n",
    "            \"sequences\": [\n",
    "                {\n",
    "                    \"proteinChain\": {\n",
    "                        \"sequence\": protein['sequence'],\n",
    "                        \"count\": 1\n",
    "                    }\n",
    "                }\n",
    "            ]\n",
    "        }\n",
    "        jobs.append(job)\n",
    "    return jobs\n",
    "\n",
    "#Defining a second function for cleaning the protein's name so that it is in a standardized format\n",
    "def sanitize_name(name):\n",
    "    return re.sub(r'[^\\w\\s]', '', name).replace(' ', '_')\n",
    "\n",
    "#Defining a third function to extract the organism's name which will be used for the .json file name later\n",
    "def extract_organism_name(record):\n",
    "    for feature in record.features:\n",
    "        if feature.type == \"source\" and \"organism\" in feature.qualifiers:\n",
    "            return feature.qualifiers[\"organism\"][0]\n",
    "    return \"Unknown_Organism\"\n",
    "\n",
    "#Defining a fourth function to actually process the .gb files into a formatted .json file\n",
    "def process_gb_file(file_path, output_directory):\n",
    "    proteins = []\n",
    "    with open(file_path, \"r\") as input_handle:\n",
    "        for record in SeqIO.parse(input_handle, \"genbank\"):\n",
    "            organism_name = sanitize_name(extract_organism_name(record))\n",
    "            for feature in record.features:\n",
    "                if feature.type == \"CDS\" and \"translation\" in feature.qualifiers:\n",
    "                    protein_name = sanitize_name(feature.qualifiers.get(\"gene\", [\"Unknown_Protein\"])[0])\n",
    "                    #You may need to change this from "gene" to "protein_id" based upon your file. For genes that encode for just one protein, "gene" works, but for genes that encode for multiple proteins, change to "protein_id"
    "                    protein_sequence = feature.qualifiers[\"translation\"][0]\n",
    "                    proteins.append({\"name\": protein_name, \"sequence\": protein_sequence})\n",
    "\n",
    "    json_data = create_json_structure(proteins)\n",
    "\n",
    "    base_name = os.path.basename(file_path)\n",
    "    species_name = os.path.splitext(base_name)[0]\n",
    "    species_output_directory = os.path.join(output_directory, sanitize_name(species_name))\n",
    "    os.makedirs(species_output_directory, exist_ok=True)\n",
    "    #Can comment out the `os.makedirs` as needed if you don't want new folders/directories\n",
    "    \n",
    "    output_json_file = os.path.join(species_output_directory, f\"{species_name}.json\")\n",
    "    with open(output_json_file, 'w') as jsonfile:\n",
    "        json.dump(json_data, jsonfile, indent=4)\n",
    "\n",
    "    print(f\"JSON file created successfully at {output_json_file}\")\n",
    "\n",
    "#Defining a fifth function find the input directory of .gb files, do the processing, and deposit the processed .json file in the output directory\n",
    "def process_genbank_directory(input_directory, output_directory):\n",
    "    for filename in os.listdir(input_directory):\n",
    "        if filename.endswith(\".gb\") or filename.endswith(\".gbk\"):\n", 
    "            file_path = os.path.join(input_directory, filename)\n",
    "            process_gb_file(file_path, output_directory)\n",
    "\n",
    "#Time to use the functions! >.>\n",
    "input_directory = \"/Path/To/Your/Directory/Of/Genbank/Files\"\n",
    "output_directory = \"/Path/To/Your/Output/Directory\"\n",
    "process_genbank_directory(input_directory, output_directory)"
   ]
  }
 ],
 "metadata": {
  "kernelspec": {
   "display_name": "Python 3 (ipykernel)",
   "language": "python",
   "name": "python3"
  },
  "language_info": {
   "codemirror_mode": {
    "name": "ipython",
    "version": 3
   },
   "file_extension": ".py",
   "mimetype": "text/x-python",
   "name": "python",
   "nbconvert_exporter": "python",
   "pygments_lexer": "ipython3",
   "version": "3.11.5"
  }
 },
 "nbformat": 4,
 "nbformat_minor": 5
}

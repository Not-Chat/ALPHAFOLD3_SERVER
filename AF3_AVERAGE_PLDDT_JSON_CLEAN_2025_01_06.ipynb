{
 "cells": [
  {
   "cell_type": "markdown",
   "id": "4b921ed2",
   "metadata": {},
   "source": [
    "# Objective:\n",
    "\n",
    "#### This will average the pLDDT scores for your given \"_full_data_#.json\" given a parent file directory of AF3 server output files. This will include the name of the protein as well in the summary of the average pLDDT.\n",
    "\n",
    "## Checklist before running:\n",
    "#### 1) Provide a directory of directories containing your \"_full_data_#.json\" files output from the Alphafold3 server\n",
    "#### 2) Make sure that you have pandas installed, can run \"pip install pandas openpyxl\" from bash if need be\n",
    "\n",
    "## Note:\n",
    "#### Can comment out code regarding .csv/.xlsx creation if need be\n",
    "#### This only works for protein sequences *without* post-translational modifications (PTMs) such as glycosylation, citrullination, phosphorylation, SUMOlation, etc."
   ]
  },
  {
   "cell_type": "code",
   "execution_count": null,
   "id": "3ff5c7b8",
   "metadata": {},
   "outputs": [],
   "source": [
    "#Importing modules\n",
    "import os\n",
    "import json\n",
    "import pandas as pd"
   ]
  },
  {
   "cell_type": "code",
   "execution_count": null,
   "id": "8be5784e",
   "metadata": {},
   "outputs": [],
   "source": [
    "# Function to process a single full data file\n",
    "def process_full_data_file(file_path):\n",
    "    try:\n",
    "        with open(file_path, 'r') as file:\n",
    "            data = json.load(file)\n",
    "            \n",
    "            # Extract atom_plddts and compute average\n",
    "            atom_plddts = data.get(\"atom_plddts\", [])\n",
    "            if not atom_plddts:\n",
    "                print(f\"No atom_plddts found in {file_path}\")\n",
    "                return None\n",
    "\n",
    "            avg_plddt = sum(atom_plddts) / len(atom_plddts)\n",
    "\n",
    "            # Extract token_res_ids and compute protein length\n",
    "            token_res_ids = data.get(\"token_res_ids\", [])\n",
    "            if not token_res_ids:\n",
    "                print(f\"No token_res_ids found in {file_path}\")\n",
    "                return None\n",
    "\n",
    "            protein_length = max(token_res_ids)\n",
    "\n",
    "            return {\n",
    "                \"file_name\": os.path.basename(file_path),\n",
    "                \"protein_length\": protein_length,\n",
    "                \"avg_plddt\": avg_plddt\n",
    "            }\n",
    "    except Exception as e:\n",
    "        print(f\"Error processing file {file_path}: {e}\")\n",
    "        return None\n",
    "\n",
    "# Function to traverse directories and process all full data files\n",
    "def process_all_full_data_files(parent_directory, output_csv_file):\n",
    "    results = []\n",
    "\n",
    "    for root, _, files in os.walk(parent_directory):\n",
    "        for file in files:\n",
    "            if file.endswith(\".json\") and \"_full_data_\" in file:\n",
    "                file_path = os.path.join(root, file)\n",
    "                result = process_full_data_file(file_path)\n",
    "                if result:\n",
    "                    results.append(result)\n",
    "\n",
    "    # Convert results to DataFrame and save to CSV\n",
    "    if results:\n",
    "        df = pd.DataFrame(results)\n",
    "        df.to_csv(output_csv_file, index=False)\n",
    "        print(f\"Results saved to {output_csv_file}\")\n",
    "    else:\n",
    "        print(\"No valid full data files were found.\")\n",
    "\n",
    "# Example usage\n",
    "parent_directory = \"Parent/Directory/File/Path\"  # Replace with your directory path\n",
    "output_csv_file = \"Output/CSV/File/Path/average_plddt_AF3.csv\"  # Replace with the desired output CSV file path\n",
    "process_all_full_data_files(parent_directory, output_csv_file)"
   ]
  }
 ],
 "metadata": {
  "kernelspec": {
   "display_name": "Python 3 (ipykernel)",
   "language": "python",
   "name": "python3"
  },
  "language_info": {
   "codemirror_mode": {
    "name": "ipython",
    "version": 3
   },
   "file_extension": ".py",
   "mimetype": "text/x-python",
   "name": "python",
   "nbconvert_exporter": "python",
   "pygments_lexer": "ipython3",
   "version": "3.11.5"
  }
 },
 "nbformat": 4,
 "nbformat_minor": 5
}

{
 "cells": [
  {
   "cell_type": "code",
   "execution_count": null,
   "id": "8fc740a3",
   "metadata": {},
   "outputs": [],
   "source": [
    "#Objective:\n",
    "\n",
    "##This will create *separate* .json files for each protein in the .faa file\n",
    "\n",
    "#Checklist before running:\n",
    "\n",
    "##Change input file & directory as needed\n",
    "##Change output file directory as needed\n",
    "\n",
    "#Note: \n",
    "\n",
    "##This only works for proteins *without* post-translational modifications (PTMs) such as glycosylation, citrullination, phosphorylation, SUMOlation, etc."
   ]
  },
  {
   "cell_type": "code",
   "execution_count": 2,
   "id": "1107b80d-2d94-466c-8616-2f8e877b92a5",
   "metadata": {},
   "outputs": [],
   "source": [
    "#Importing modules\n",
    "import json\n",
    "import os\n",
    "from Bio import SeqIO\n",
    "import re"
   ]
  },
  {
   "cell_type": "code",
   "execution_count": 3,
   "id": "af9953e6",
   "metadata": {},
   "outputs": [
    {
     "name": "stdout",
     "output_type": "stream",
     "text": [
      "JSON file created successfully at /Users/rileyjones/Desktop/UCSD/BIOINFORMATICS/EXP002_AF3_EBV/OUTPUT/EBV_PROTEINS_JSON_FILES/EBV_Proteins/EBV_Proteins.json\n"
     ]
    }
   ],
   "source": [
    "#Defining our first function \"create_json_structure\" to create a json file structure based off of the AF3 server requirements\n",
    "def create_json_structure(proteins):\n",
    "    jobs = []\n",
    "    for protein in proteins:\n",
    "        job = {\n",
    "            \"name\": protein['name'],\n",
    "            \"modelSeeds\": [],\n",
    "            \"sequences\": [\n",
    "                {\n",
    "                    \"proteinChain\": {\n",
    "                        \"sequence\": protein['sequence'],\n",
    "                        \"count\": 1\n",
    "                    }\n",
    "                }\n",
    "            ]\n",
    "        }\n",
    "        jobs.append(job)\n",
    "    return jobs\n",
    "\n",
    "#Defining a second function for cleaning the protein's name so that it is in a standardized format\n",
    "def sanitize_name(name):\n",
    "    return re.sub(r'[^\\w\\s]', '', name).replace(' ', '_')\n",
    "\n",
    "#Defining a third function to process our input .faa file into our output .json file\n",
    "def process_faa_file(faa_file, output_directory):\n",
    "    proteins = []\n",
    "    for record in SeqIO.parse(faa_file, \"fasta\"):\n",
    "        protein_name = sanitize_name(record.description)\n",
    "        protein_sequence = str(record.seq)\n",
    "        proteins.append({\"name\": protein_name, \"sequence\": protein_sequence})\n",
    "\n",
    "    json_data = create_json_structure(proteins)\n",
    "\n",
    "    base_name = os.path.basename(faa_file)\n",
    "    species_name = os.path.splitext(base_name)[0]\n",
    "    species_output_directory = os.path.join(output_directory, sanitize_name(species_name))\n",
    "    os.makedirs(species_output_directory, exist_ok=True)\n",
    "\n",
    "    output_json_file = os.path.join(species_output_directory, f\"{species_name}.json\")\n",
    "    with open(output_json_file, 'w') as jsonfile:\n",
    "        json.dump(json_data, jsonfile, indent=4)\n",
    "\n",
    "    print(f\"JSON file created successfully at {output_json_file}\")\n",
    "\n",
    "#Defining a fourth function to deposit the processed .json file in the output directory\n",
    "def process_directory(input_directory, output_directory):\n",
    "    for filename in os.listdir(input_directory):\n",
    "        if filename.endswith(\".faa\"):\n",
    "            file_path = os.path.join(input_directory, filename)\n",
    "            process_faa_file(file_path, output_directory)\n",
    "\n",
    "#Time to use the functions! ^.^\n",
    "faa_file = \"/Path/To/Your/.faa/File\"\n",
    "output_json_directory = \"/Path/To/Your/Output/Directory\"\n",
    "process_faa_file(faa_file, output_json_directory)"
   ]
  }
 ],
 "metadata": {
  "kernelspec": {
   "display_name": "Python 3 (ipykernel)",
   "language": "python",
   "name": "python3"
  },
  "language_info": {
   "codemirror_mode": {
    "name": "ipython",
    "version": 3
   },
   "file_extension": ".py",
   "mimetype": "text/x-python",
   "name": "python",
   "nbconvert_exporter": "python",
   "pygments_lexer": "ipython3",
   "version": "3.11.5"
  }
 },
 "nbformat": 4,
 "nbformat_minor": 5
}
